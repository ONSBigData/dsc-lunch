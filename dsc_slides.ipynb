{
 "cells": [
  {
   "cell_type": "code",
   "execution_count": 7,
   "metadata": {
    "scrolled": true,
    "slideshow": {
     "slide_type": "skip"
    }
   },
   "outputs": [
    {
     "data": {
      "text/plain": [
       "{'height': 1000, 'width': 1500}"
      ]
     },
     "execution_count": 7,
     "metadata": {},
     "output_type": "execute_result"
    }
   ],
   "source": [
    "import os, sys\n",
    "\n",
    "#figure display\n",
    "from IPython.core.display import HTML\n",
    "from IPython.display import display, IFrame\n",
    "\n",
    "#files for data munging\n",
    "file_dir = os.getcwd()\n",
    "sys.path.append(file_dir + \"/scripts\")\n",
    "\n",
    "#inline plotting\n",
    "from bokeh.resources import INLINE\n",
    "\n",
    "#set size of figures\n",
    "from notebook.services.config import ConfigManager\n",
    "cm = ConfigManager()\n",
    "cm.update('livereveal', {\n",
    "          'width': 1500,\n",
    "          'height': 1000,\n",
    "})\n"
   ]
  },
  {
   "cell_type": "markdown",
   "metadata": {
    "slideshow": {
     "slide_type": "slide"
    }
   },
   "source": [
    "# Big Data Team - Research projects\n",
    "\n",
    " - <h3> Traffic flow as an early indicator for GDP growth (and other economic measures) </h3>\n",
    "   <h4> Edward Rowland </h4>\n",
    "   \n",
    " - <h3> Extracting data from online CVs </h3>\n",
    "   <h4> Hazel Martindale </h4>"
   ]
  },
  {
   "cell_type": "code",
   "execution_count": 21,
   "metadata": {
    "scrolled": true,
    "slideshow": {
     "slide_type": "subslide"
    }
   },
   "outputs": [
    {
     "data": {
      "text/html": [
       "<script>\n",
       "code_show=true; \n",
       "function code_toggle() {\n",
       " if (code_show){\n",
       " $('div.input').hide();\n",
       " } else {\n",
       " $('div.input').show();\n",
       " }\n",
       " code_show = !code_show\n",
       "} \n",
       "$( document ).ready(code_toggle);\n",
       "</script>\n",
       "<form action=\"javascript:code_toggle()\"><input type=\"submit\" value=\"Click here to toggle on/off the raw code.\"></form>"
      ],
      "text/plain": [
       "<IPython.core.display.HTML object>"
      ]
     },
     "execution_count": 21,
     "metadata": {},
     "output_type": "execute_result"
    }
   ],
   "source": [
    "# source: https://stackoverflow.com/questions/27934885/how-to-hide-code-from-cells-in-ipython-notebook-visualized-with-nbviewer\n",
    "\n",
    "HTML('''<script>\n",
    "code_show=true; \n",
    "function code_toggle() {\n",
    " if (code_show){\n",
    " $('div.input').hide();\n",
    " } else {\n",
    " $('div.input').show();\n",
    " }\n",
    " code_show = !code_show\n",
    "} \n",
    "$( document ).ready(code_toggle);\n",
    "</script>\n",
    "<form action=\"javascript:code_toggle()\"><input type=\"submit\" value=\"Click here to toggle on/off the raw code.\"></form>''')"
   ]
  },
  {
   "cell_type": "code",
   "execution_count": 1,
   "metadata": {
    "scrolled": true,
    "slideshow": {
     "slide_type": "subslide"
    }
   },
   "outputs": [
    {
     "data": {
      "text/html": [
       "<script>\n",
       "code_show_err=false; \n",
       "function code_toggle_err() {\n",
       " if (code_show_err){\n",
       " $('div.output_stderr').hide();\n",
       " } else {\n",
       " $('div.output_stderr').show();\n",
       " }\n",
       " code_show_err = !code_show_err\n",
       "} \n",
       "$( document ).ready(code_toggle_err);\n",
       "</script>\n",
       "\n",
       "<form action=\"javascript:code_toggle_err()\"><input type=\"submit\" value=\"Click here to toggle on/off warnings.\"></form>"
      ],
      "text/plain": [
       "<IPython.core.display.HTML object>"
      ]
     },
     "execution_count": 1,
     "metadata": {},
     "output_type": "execute_result"
    }
   ],
   "source": [
    "#source: https://stackoverflow.com/questions/9031783/hide-all-warnings-in-ipython\n",
    "from IPython.display import HTML\n",
    "\n",
    "HTML('''<script>\n",
    "code_show_err=false; \n",
    "function code_toggle_err() {\n",
    " if (code_show_err){\n",
    " $('div.output_stderr').hide();\n",
    " } else {\n",
    " $('div.output_stderr').show();\n",
    " }\n",
    " code_show_err = !code_show_err\n",
    "} \n",
    "$( document ).ready(code_toggle_err);\n",
    "</script>\n",
    "\n",
    "<form action=\"javascript:code_toggle_err()\"><input type=\"submit\" value=\"Click here to toggle on/off warnings.\"></form>''')"
   ]
  },
  {
   "cell_type": "markdown",
   "metadata": {
    "slideshow": {
     "slide_type": "slide"
    }
   },
   "source": [
    "# Talk aims"
   ]
  },
  {
   "cell_type": "markdown",
   "metadata": {
    "slideshow": {
     "slide_type": "fragment"
    }
   },
   "source": [
    "- The work has been largely driven internally\n",
    "- Promote the work\n",
    "- Give oppotunity for others to collaborate and drive the aims"
   ]
  },
  {
   "cell_type": "markdown",
   "metadata": {
    "slideshow": {
     "slide_type": "fragment"
    }
   },
   "source": [
    "### If you think the work is relevant to your area, please get in touch!"
   ]
  },
  {
   "cell_type": "markdown",
   "metadata": {
    "slideshow": {
     "slide_type": "slide"
    }
   },
   "source": [
    "# Traffic flow as an early indicator for GDP growth (and other economic & labour market measures)\n"
   ]
  },
  {
   "cell_type": "markdown",
   "metadata": {
    "slideshow": {
     "slide_type": "fragment"
    }
   },
   "source": [
    "# Talk Structure\n",
    "\n",
    "\n",
    "1. Background\n",
    "2. Other work\n",
    "3. Aims\n",
    "3. Data \n",
    "4. Overall Trends\n",
    "5. Finding the lag\n",
    "6. Correlations\n",
    "7. Time series modelling \n",
    "8. Summary\n",
    "9. Future work - High Frequency traffic counts\n",
    "\n"
   ]
  },
  {
   "cell_type": "markdown",
   "metadata": {
    "slideshow": {
     "slide_type": "slide"
    }
   },
   "source": [
    "<h1>\n",
    "1. Background\n",
    "</h1>"
   ]
  },
  {
   "cell_type": "markdown",
   "metadata": {
    "slideshow": {
     "slide_type": "fragment"
    }
   },
   "source": [
    "### Traffic flow is thought to be elastic to a number of economic factors\n",
    "\n",
    "- GDP: More stuff being made that needs to be moved about\n",
    "- Salary: More money means people might travel more for work, business and leisure\n",
    "- Employment: More people in work may mean more commuting\n",
    "- Inflation: If the cost of living goes up, that might mean less traffic as people cut back on expenses\n"
   ]
  },
  {
   "cell_type": "markdown",
   "metadata": {
    "slideshow": {
     "slide_type": "slide"
    }
   },
   "source": [
    "### How is this useful?\n",
    "\n",
    "Traffic could be used as a proxy for these figures. This could provide the following benefits.. \n",
    "\n",
    "1. More localised estimates\n",
    "2. Potential early indicator\n",
    "3. Identify impacts of specific events"
   ]
  },
  {
   "cell_type": "markdown",
   "metadata": {
    "slideshow": {
     "slide_type": "subslide"
    }
   },
   "source": [
    "### Where could this be used? - Some examples"
   ]
  },
  {
   "cell_type": "markdown",
   "metadata": {
    "slideshow": {
     "slide_type": "fragment"
    }
   },
   "source": [
    "**1. More localised estimates**\n",
    "\n",
    "Identify areas of low or negative growth that would be lost if looking at the national figures"
   ]
  },
  {
   "cell_type": "markdown",
   "metadata": {
    "slideshow": {
     "slide_type": "fragment"
    }
   },
   "source": [
    "**2. Potential early indicator**\n",
    "\n",
    "A recession is defined as having two or more quarters of negative GDP growth.\n",
    "The UK won't officially know if it is in recession until around 6-7 months after it started."
   ]
  },
  {
   "cell_type": "markdown",
   "metadata": {
    "slideshow": {
     "slide_type": "fragment"
    }
   },
   "source": [
    "**3. Identify impacts of specific events**\n",
    "\n",
    "With high frequency data, it could identify the impacts of events (Weather, terrorist attacks, Brexit etc.)"
   ]
  },
  {
   "cell_type": "markdown",
   "metadata": {
    "slideshow": {
     "slide_type": "fragment"
    }
   },
   "source": [
    "**This aim is to find relationships between traffic and econmic indicators to see if this could work**"
   ]
  },
  {
   "cell_type": "markdown",
   "metadata": {
    "slideshow": {
     "slide_type": "slide"
    }
   },
   "source": [
    "# 2. Other work"
   ]
  },
  {
   "cell_type": "markdown",
   "metadata": {
    "slideshow": {
     "slide_type": "fragment"
    }
   },
   "source": [
    "Have others looked at this...?"
   ]
  },
  {
   "cell_type": "markdown",
   "metadata": {
    "slideshow": {
     "slide_type": "fragment"
    }
   },
   "source": [
    "...Yes!"
   ]
  },
  {
   "cell_type": "markdown",
   "metadata": {
    "slideshow": {
     "slide_type": "slide"
    }
   },
   "source": [
    "### Stats Netherlands\n",
    "\n",
    "Research using data from an extensive road sensor network in The Netherlands shows correlations with traffic flow and a number of economic measures with a lag of 3 months\n",
    "\n",
    "\n",
    "| Measure       | Total Traffic | Cat 1 (< 5.6m) Traffic | Cat 2 (5.6m =< >= 12.2m) Traffic | Cat 3 (> 12.2m) Traffic |\n",
    "| ------------- |:-------------:| -----:|\n",
    "| Inflation     | -0.42 |  -0.43 | - 0.19 | -0.43 |\n",
    "| Unemployment  | -0.47 |  -0.41 | -0.55 | -0.22 |\n",
    "| Income        | 0.74  |  0.74  |  0.45 | 0.65 |\n",
    "| GDP           | 0.54  | 0.63   | -0.01 | 0.70 |\n"
   ]
  },
  {
   "cell_type": "markdown",
   "metadata": {
    "slideshow": {
     "slide_type": "subslide"
    }
   },
   "source": [
    "- Income followed by GDP look to be the strongest correlates\n",
    "- Larger vehicles (HGVs) correlate most strongly with GDP\n",
    "- Perhaps some weaker correlations with inflation and Unemployment\n",
    "\n",
    "We can look and see if this matches with the data used here later"
   ]
  },
  {
   "cell_type": "markdown",
   "metadata": {
    "slideshow": {
     "slide_type": "fragment"
    }
   },
   "source": [
    "Killan, Ros,  \"Road Traffic Correlations with Economic Variables: The Big Data Perspective., 2017, https://pdfs.semanticscholar.org/1f1d/b563d229bdd4fd8c90ad8dd6c5cd3487f76b.pdf"
   ]
  },
  {
   "cell_type": "markdown",
   "metadata": {
    "slideshow": {
     "slide_type": "subslide"
    }
   },
   "source": [
    "### Some issues"
   ]
  },
  {
   "cell_type": "markdown",
   "metadata": {
    "slideshow": {
     "slide_type": "fragment"
    }
   },
   "source": [
    "| Variable      | Normally Distributed? | Method| \n",
    "| ------------- |:---------------------:| -----:|\n",
    "| Daily traffic intensity   | No        | Spearman | \n",
    "| Monthly traffic intensity | Yes       | Pearson |\n",
    "| Quarterly traffic intensity | Yes     | Pearson  |\n",
    "| GDP           | Yes                   | Pearson | \n",
    "| Income        | No                    | Spearman |\n",
    "| Unemployment  | Yes                   | Pearson |\n",
    "| Inflation     | No                    | Spearman |"
   ]
  },
  {
   "cell_type": "markdown",
   "metadata": {
    "slideshow": {
     "slide_type": "subslide"
    }
   },
   "source": [
    "\n",
    "Not convinced on the use of Spearman's\n",
    "- Shapiro–Wilk test for normality is more (too) sensitive for big data sets\n",
    "- Income data is likely to be skewed, but hard to tell as histograms aren't given\n",
    "- No indication they tried transforming the data\n",
    "- Relationships look to be linear\n",
    "- Spearman's tends to exaggerate coefficients and p-values compare to Pearson's where the latter is valid so can be used for p-hacking (I don't think this was deliberate here)\n"
   ]
  },
  {
   "cell_type": "markdown",
   "metadata": {
    "slideshow": {
     "slide_type": "fragment"
    }
   },
   "source": [
    "Would this change the conclusions? - Probably not hugely, so the work is still useful"
   ]
  },
  {
   "cell_type": "markdown",
   "metadata": {
    "slideshow": {
     "slide_type": "slide"
    }
   },
   "source": [
    "### Slovenia"
   ]
  },
  {
   "cell_type": "markdown",
   "metadata": {
    "slideshow": {
     "slide_type": "fragment"
    }
   },
   "source": [
    "- Used traffic flow to estimate GDP figure 45 days before its publication.\n",
    "- PCA with linear regression to estimate GDP\n",
    "- Found that Cargo vehicles were the best predictor of GDP, within 1% of the GDP figure"
   ]
  },
  {
   "cell_type": "markdown",
   "metadata": {
    "slideshow": {
     "slide_type": "fragment"
    }
   },
   "source": [
    "Črt Grahonja, 2018, Use of alternative data sources as flash estimates of economic indicators,\n",
    "European conference on quality in official statistics June 2018: \n",
    "https://www.q2018.pl/papers-presentations/?drawer=Sessions*Session%2022\n"
   ]
  },
  {
   "cell_type": "markdown",
   "metadata": {
    "slideshow": {
     "slide_type": "slide"
    }
   },
   "source": [
    "## Finland"
   ]
  },
  {
   "cell_type": "markdown",
   "metadata": {
    "slideshow": {
     "slide_type": "fragment"
    }
   },
   "source": [
    "- Uses Company level data and traffic loops to produce two nowcasts and a 16-day backcast of GDP\n",
    "- Reduce factors by two-step PCA and shrinkage step \n",
    "- 16 day backcast was as accurate as the first estimate of GDP when comparing both to the revised figure\n",
    "- Traffic flow and company data were similar when estimating GDP"
   ]
  },
  {
   "cell_type": "markdown",
   "metadata": {
    "slideshow": {
     "slide_type": "fragment"
    }
   },
   "source": [
    "Henri Luomaranta, 2018, Nowcasting Finnish Real Economic Activity: a Machine Learning Approach,\n",
    "European conference on Quality in official statistics June 2018: \n",
    "https://www.q2018.pl/papers-presentations/?drawer=Sessions*Session%2022"
   ]
  },
  {
   "cell_type": "markdown",
   "metadata": {
    "slideshow": {
     "slide_type": "slide"
    }
   },
   "source": [
    "# 3. Aims "
   ]
  },
  {
   "cell_type": "markdown",
   "metadata": {
    "slideshow": {
     "slide_type": "fragment"
    }
   },
   "source": [
    "- Examine the feasibility of applying this work to UK economic and labour market measures\n",
    "- Looking at correlations between traffic flow and these; mostly replicates the Stats Netherlands approach \n",
    "- Apply some simple time series models to see if traffic flow improves predictions "
   ]
  },
  {
   "cell_type": "markdown",
   "metadata": {
    "slideshow": {
     "slide_type": "slide"
    }
   },
   "source": [
    "# 4. Data - Traffic flow"
   ]
  },
  {
   "cell_type": "markdown",
   "metadata": {
    "slideshow": {
     "slide_type": "fragment"
    }
   },
   "source": [
    "#### Department for Transport data\n",
    "- Annual average daily flow (AADF) for major and minor roads is used as a measure of traffic flow from 2003 to 2015\n",
    "- Split into different vehicle categories\n",
    "- Daily flow is the number of vehicles passing a point on a road on a day. This is averaged across the year to produce the average daily flow\n",
    "- This measure is based upon approximate 10,000 manual counts per year, between March and October on non-school and public holidays\n",
    "- These counts are used to estimate AADF figures for major roads\n",
    "- A representative sample of minor road sites are selected as observations points\n",
    "- These figures are combined with the change on the previous year to estimate counts for all minor roads\n"
   ]
  },
  {
   "cell_type": "markdown",
   "metadata": {
    "slideshow": {
     "slide_type": "slide"
    }
   },
   "source": [
    "# 4. Data - Economic and labour market measures"
   ]
  },
  {
   "cell_type": "markdown",
   "metadata": {
    "slideshow": {
     "slide_type": "fragment"
    }
   },
   "source": [
    "Annual figures are taken to match with traffic flow\n",
    "\n",
    "- **GDP:** The measure used here is the National GDP growth figure as contained in the UK National Accounts Blue Book.\n",
    "- **CPIH:** The annual UK Consumer Price index including owner occupied housing costs is used here. Note that this time series only dates to 2005, so no figure is available before this date\n",
    "- **CPI:** The annual UK Consumer Price index is used here as CPIH is not available before 2005\n",
    "- **Unemployment:** The seasonally adjusted UK unemployment rate for over 16s is used here\n",
    "- **Earnings:** Average weekly earnings is the figure used that gives the money paid per week, per job before tax and other deductions to employees in the UK\n"
   ]
  },
  {
   "cell_type": "markdown",
   "metadata": {
    "slideshow": {
     "slide_type": "slide"
    }
   },
   "source": [
    "# 4.  <a href=\"file:///home/eddr/Documents/Projects/report/figures/time_series_multi_metrics.html\" target=\"blank\">Overall trends in the data</a>"
   ]
  },
  {
   "cell_type": "markdown",
   "metadata": {
    "slideshow": {
     "slide_type": "fragment"
    }
   },
   "source": [
    " This shows the timeseries of the data to get an overview"
   ]
  },
  {
   "cell_type": "code",
   "execution_count": 11,
   "metadata": {
    "scrolled": true,
    "slideshow": {
     "slide_type": "subslide"
    }
   },
   "outputs": [
    {
     "data": {
      "text/html": [
       "\n",
       "        <iframe\n",
       "            width=\"1200\"\n",
       "            height=\"1000\"\n",
       "            src=\"figures/time_series_multi_metrics_small.html\"\n",
       "            frameborder=\"0\"\n",
       "            allowfullscreen\n",
       "        ></iframe>\n",
       "        "
      ],
      "text/plain": [
       "<IPython.lib.display.IFrame at 0x7fa2d06e1518>"
      ]
     },
     "execution_count": 11,
     "metadata": {},
     "output_type": "execute_result"
    }
   ],
   "source": [
    "IFrame(\"figures/time_series_multi_metrics_small.html\", width=1200, height=1000)"
   ]
  },
  {
   "cell_type": "markdown",
   "metadata": {
    "slideshow": {
     "slide_type": "slide"
    }
   },
   "source": [
    "# 5. Finding the lag "
   ]
  },
  {
   "cell_type": "markdown",
   "metadata": {
    "slideshow": {
     "slide_type": "fragment"
    }
   },
   "source": [
    "### Method\n",
    "\n",
    "- Compute the cross-correlation function\n",
    "- The peak gives the point of maximum similarity between traffic flow and the chosen measures\n",
    "- This is used to find the time lag between the time series\n",
    "\n",
    "## Results"
   ]
  },
  {
   "cell_type": "markdown",
   "metadata": {
    "slideshow": {
     "slide_type": "fragment"
    }
   },
   "source": [
    "| Variable      | Peak/Lag with traffic |\n",
    "| ------------- |:---------------------:| \n",
    "| GDP           | 1 year                | \n",
    "| Income        | 1 year                |\n",
    "| Unemployment  | 5 years*              |\n",
    "| Inflation     | 0 years               |\n",
    "\n",
    "** * little overlap at 1 year indicates negative correlation"
   ]
  },
  {
   "cell_type": "markdown",
   "metadata": {
    "slideshow": {
     "slide_type": "subslide"
    }
   },
   "source": [
    "## GDP Growth"
   ]
  },
  {
   "cell_type": "code",
   "execution_count": 10,
   "metadata": {},
   "outputs": [
    {
     "data": {
      "text/html": [
       "\n",
       "        <iframe\n",
       "            width=\"1200\"\n",
       "            height=\"1000\"\n",
       "            src=\"figures/cross_correlation_plots_gdp_growth.html\"\n",
       "            frameborder=\"0\"\n",
       "            allowfullscreen\n",
       "        ></iframe>\n",
       "        "
      ],
      "text/plain": [
       "<IPython.lib.display.IFrame at 0x7fa2d06e1c50>"
      ]
     },
     "execution_count": 10,
     "metadata": {},
     "output_type": "execute_result"
    }
   ],
   "source": [
    "IFrame(\"figures/cross_correlation_plots_gdp_growth.html\", width=1200, height=1000)"
   ]
  },
  {
   "cell_type": "markdown",
   "metadata": {
    "slideshow": {
     "slide_type": "subslide"
    }
   },
   "source": [
    "## CPIH"
   ]
  },
  {
   "cell_type": "code",
   "execution_count": 12,
   "metadata": {
    "slideshow": {
     "slide_type": "fragment"
    }
   },
   "outputs": [
    {
     "data": {
      "text/html": [
       "\n",
       "        <iframe\n",
       "            width=\"1200\"\n",
       "            height=\"1000\"\n",
       "            src=\"figures/cross_correlation_plots_CPIH.html\"\n",
       "            frameborder=\"0\"\n",
       "            allowfullscreen\n",
       "        ></iframe>\n",
       "        "
      ],
      "text/plain": [
       "<IPython.lib.display.IFrame at 0x7fa2d06e1a90>"
      ]
     },
     "execution_count": 12,
     "metadata": {},
     "output_type": "execute_result"
    }
   ],
   "source": [
    "IFrame(\"figures/cross_correlation_plots_CPIH.html\", width=1200, height=1000)"
   ]
  },
  {
   "cell_type": "markdown",
   "metadata": {
    "slideshow": {
     "slide_type": "subslide"
    }
   },
   "source": [
    "## CPI"
   ]
  },
  {
   "cell_type": "code",
   "execution_count": 13,
   "metadata": {
    "slideshow": {
     "slide_type": "fragment"
    }
   },
   "outputs": [
    {
     "data": {
      "text/html": [
       "\n",
       "        <iframe\n",
       "            width=\"1200\"\n",
       "            height=\"1000\"\n",
       "            src=\"figures/cross_correlation_plots_CPI.html\"\n",
       "            frameborder=\"0\"\n",
       "            allowfullscreen\n",
       "        ></iframe>\n",
       "        "
      ],
      "text/plain": [
       "<IPython.lib.display.IFrame at 0x7fa2d0676438>"
      ]
     },
     "execution_count": 13,
     "metadata": {},
     "output_type": "execute_result"
    }
   ],
   "source": [
    "IFrame(\"figures/cross_correlation_plots_CPI.html\", width=1200, height=1000)"
   ]
  },
  {
   "cell_type": "markdown",
   "metadata": {
    "slideshow": {
     "slide_type": "subslide"
    }
   },
   "source": [
    "## Unemployment"
   ]
  },
  {
   "cell_type": "code",
   "execution_count": 14,
   "metadata": {
    "slideshow": {
     "slide_type": "fragment"
    }
   },
   "outputs": [
    {
     "data": {
      "text/html": [
       "\n",
       "        <iframe\n",
       "            width=\"1200\"\n",
       "            height=\"1000\"\n",
       "            src=\"figures/cross_correlation_plots_unemployment_pct_change.html\"\n",
       "            frameborder=\"0\"\n",
       "            allowfullscreen\n",
       "        ></iframe>\n",
       "        "
      ],
      "text/plain": [
       "<IPython.lib.display.IFrame at 0x7fa2d06762e8>"
      ]
     },
     "execution_count": 14,
     "metadata": {},
     "output_type": "execute_result"
    }
   ],
   "source": [
    "IFrame(\"figures/cross_correlation_plots_unemployment_pct_change.html\", width=1200, height=1000)"
   ]
  },
  {
   "cell_type": "markdown",
   "metadata": {
    "slideshow": {
     "slide_type": "subslide"
    }
   },
   "source": [
    "## Average Earnings"
   ]
  },
  {
   "cell_type": "code",
   "execution_count": 15,
   "metadata": {
    "slideshow": {
     "slide_type": "fragment"
    }
   },
   "outputs": [
    {
     "data": {
      "text/html": [
       "\n",
       "        <iframe\n",
       "            width=\"1200\"\n",
       "            height=\"1000\"\n",
       "            src=\"figures/cross_correlation_plots_av_weekly_earnings_change.html\"\n",
       "            frameborder=\"0\"\n",
       "            allowfullscreen\n",
       "        ></iframe>\n",
       "        "
      ],
      "text/plain": [
       "<IPython.lib.display.IFrame at 0x7fa2d06760b8>"
      ]
     },
     "execution_count": 15,
     "metadata": {},
     "output_type": "execute_result"
    }
   ],
   "source": [
    "IFrame(\"figures/cross_correlation_plots_av_weekly_earnings_change.html\", width=1200, height=1000)"
   ]
  },
  {
   "cell_type": "markdown",
   "metadata": {
    "slideshow": {
     "slide_type": "slide"
    }
   },
   "source": [
    "# 6. Correlations "
   ]
  },
  {
   "cell_type": "code",
   "execution_count": 21,
   "metadata": {
    "slideshow": {
     "slide_type": "fragment"
    }
   },
   "outputs": [
    {
     "data": {
      "text/html": [
       "\n",
       "        <iframe\n",
       "            width=\"800\"\n",
       "            height=\"600\"\n",
       "            src=\"figures/correlation_heatmap_small.html\"\n",
       "            frameborder=\"0\"\n",
       "            allowfullscreen\n",
       "        ></iframe>\n",
       "        "
      ],
      "text/plain": [
       "<IPython.lib.display.IFrame at 0x7fa2a59d3c88>"
      ]
     },
     "execution_count": 21,
     "metadata": {},
     "output_type": "execute_result"
    }
   ],
   "source": [
    "IFrame(\"figures/correlation_heatmap_small.html\",\n",
    "       width=800, \n",
    "       height=600)"
   ]
  },
  {
   "cell_type": "markdown",
   "metadata": {
    "slideshow": {
     "slide_type": "slide"
    }
   },
   "source": [
    "### Coefficents"
   ]
  },
  {
   "cell_type": "markdown",
   "metadata": {
    "slideshow": {
     "slide_type": "fragment"
    }
   },
   "source": [
    "<table border=\"1\" class=\"dataframe\">  <thead>    <tr>      <th></th>       </tr>    <tr>      <th>Economic indicator</th>      <th>CPI</th>      <th>Change in unemployment (% pts)</th>      <th>Change in weekly earnings (£)</th>      <th>GDP Growth</th>    </tr>    <tr>      <th>Vehicle type</t >      <th></th>      <th></th>      <th></th>      <th></th>    </tr>  </thead>  <tbody>    <tr>      <th>All HGVs</th>      <td>0.077045</td>      <td>-0.145477</td>      <td>0.946293</td>      <td>0.507384</td>    </tr>    <tr>      <th>All Motor Vehicles</th>      <td>0.088426</td>      <td>-0.494078</td>      <td>0.826505</td>      <td>0.757739</td>    </tr>    <tr>      <th>Buses and Coaches</th>      <td>0.111941</td>      <td>-0.559256</td>      <td>0.718989</td>      <td>0.756430</td>    </tr>    <tr>      <th>Cars and Taxis</th>      <td>0.104417</td>      <td>-0.455441</td>      <td>0.837060</td>      <td>0.765201</td>    </tr>    <tr>      <th>LGVs</th>      <td>-0.048951</td>      <td>-0.670309</td>      <td>0.183337</td>      <td>0.447924</td>    </tr>    <tr>      <th>Motorbikes and Scooters</th>      <td>0.073761</td>      <td>0.116624</td>      <td>0.825611</td>      <td>0.255856</td>    </tr>    <tr>      <th>Pedal Cycles</th>      <td>0.036957</td>      <td>-0.570229</td>      <td>-0.177683</td>      <td>0.366898</td>    </tr>  </tbody></table>'"
   ]
  },
  {
   "cell_type": "markdown",
   "metadata": {
    "slideshow": {
     "slide_type": "subslide"
    }
   },
   "source": [
    "### Stats Netherlands\n",
    "\n",
    "\n",
    "\n",
    "| Measure       | Total Traffic | Cat 1 (< 5.6m) Traffic | Cat 2 (5.6m =< >= 12.2m) Traffic | Cat 3 (> 12.2m) Traffic |\n",
    "| ------------- |:-------------:| -----:|\n",
    "| Inflation     | -0.42 |  -0.43 | - 0.19 | -0.43 |\n",
    "| Unemployment  | -0.47 |  -0.41 | -0.55 | -0.22 |\n",
    "| Income        | 0.74  |  0.74  |  0.45 | 0.65 |\n",
    "| GDP           | 0.54  | 0.63   | -0.01 | 0.70 |\n"
   ]
  },
  {
   "cell_type": "markdown",
   "metadata": {
    "slideshow": {
     "slide_type": "subslide"
    }
   },
   "source": [
    "## Log transformed traffic flow"
   ]
  },
  {
   "cell_type": "code",
   "execution_count": 20,
   "metadata": {
    "slideshow": {
     "slide_type": "fragment"
    }
   },
   "outputs": [
    {
     "data": {
      "text/html": [
       "\n",
       "        <iframe\n",
       "            width=\"800\"\n",
       "            height=\"600\"\n",
       "            src=\"figures/correlation_heatmap_log_small.html\"\n",
       "            frameborder=\"0\"\n",
       "            allowfullscreen\n",
       "        ></iframe>\n",
       "        "
      ],
      "text/plain": [
       "<IPython.lib.display.IFrame at 0x7fa2a59d3cf8>"
      ]
     },
     "execution_count": 20,
     "metadata": {},
     "output_type": "execute_result"
    }
   ],
   "source": [
    "IFrame(\"figures/correlation_heatmap_log_small.html\",\n",
    "       width=800, \n",
    "       height=600)"
   ]
  },
  {
   "cell_type": "markdown",
   "metadata": {
    "slideshow": {
     "slide_type": "slide"
    }
   },
   "source": [
    "# 6. Correlations - summary"
   ]
  },
  {
   "cell_type": "markdown",
   "metadata": {
    "slideshow": {
     "slide_type": "fragment"
    }
   },
   "source": [
    "- Weekly earnings has the strongest correlation, similar to The Netherlands \n",
    "- GDP shows some strong correlations, though not with HGVs like in The Netherlands\n",
    "- Unemployment shows weaker correlations, similar to The Netherlands\n",
    "- No correlation with inflation"
   ]
  },
  {
   "cell_type": "markdown",
   "metadata": {
    "slideshow": {
     "slide_type": "slide"
    }
   },
   "source": [
    "# 6. Correlations - caveats"
   ]
  },
  {
   "cell_type": "markdown",
   "metadata": {
    "slideshow": {
     "slide_type": "fragment"
    }
   },
   "source": [
    "1. Small dataset\n",
    "2. Not clear if variables are normally distributed\n",
    "3. Correlations for GDP are dependent on outliers (i.e may not exist)\n",
    "4. Time series only contains one recession \n",
    "5. Not clear how recession events change distribution of variables"
   ]
  },
  {
   "cell_type": "markdown",
   "metadata": {
    "slideshow": {
     "slide_type": "slide"
    }
   },
   "source": [
    "# 7. Time series models "
   ]
  },
  {
   "cell_type": "markdown",
   "metadata": {
    "slideshow": {
     "slide_type": "fragment"
    }
   },
   "source": [
    "### Approach\n",
    "\n",
    "1. Try some basic Auto-regressive (AR) models \n",
    "    - These contain one variable, where you are trying to predict future values from past (lagged) values\n",
    "    - These shouldn't work well, otherwise it would be easy to predict GDP etc!\n",
    "2. Add in All Vehicles variable in a Vector AR (VAR) model to predict the economic variable\n",
    "    - If traffic flow is a good predictor, then this should give a better estimate of GDP\n"
   ]
  },
  {
   "cell_type": "markdown",
   "metadata": {
    "slideshow": {
     "slide_type": "subslide"
    }
   },
   "source": [
    "## Auto and partial correlations"
   ]
  },
  {
   "cell_type": "code",
   "execution_count": 22,
   "metadata": {
    "slideshow": {
     "slide_type": "fragment"
    }
   },
   "outputs": [
    {
     "data": {
      "text/html": [
       "\n",
       "        <iframe\n",
       "            width=\"800\"\n",
       "            height=\"400\"\n",
       "            src=\"figures/auto_and_partial_correlations.html\"\n",
       "            frameborder=\"0\"\n",
       "            allowfullscreen\n",
       "        ></iframe>\n",
       "        "
      ],
      "text/plain": [
       "<IPython.lib.display.IFrame at 0x7fa2a59d3e48>"
      ]
     },
     "execution_count": 22,
     "metadata": {},
     "output_type": "execute_result"
    }
   ],
   "source": [
    "IFrame(\"figures/auto_and_partial_correlations.html\",\n",
    "       width=800, \n",
    "       height=400\n",
    "      )"
   ]
  },
  {
   "cell_type": "markdown",
   "metadata": {
    "slideshow": {
     "slide_type": "slide"
    }
   },
   "source": [
    "## The models"
   ]
  },
  {
   "cell_type": "code",
   "execution_count": 24,
   "metadata": {
    "slideshow": {
     "slide_type": "fragment"
    }
   },
   "outputs": [
    {
     "data": {
      "text/html": [
       "\n",
       "        <iframe\n",
       "            width=\"800\"\n",
       "            height=\"600\"\n",
       "            src=\"figures/actual_vs_AR_predictions.html\"\n",
       "            frameborder=\"0\"\n",
       "            allowfullscreen\n",
       "        ></iframe>\n",
       "        "
      ],
      "text/plain": [
       "<IPython.lib.display.IFrame at 0x7fa2a59d3eb8>"
      ]
     },
     "execution_count": 24,
     "metadata": {},
     "output_type": "execute_result"
    }
   ],
   "source": [
    "IFrame(\"figures/actual_vs_AR_predictions.html\",\n",
    "       width=800, \n",
    "       height=600\n",
    "      )"
   ]
  },
  {
   "cell_type": "markdown",
   "metadata": {
    "slideshow": {
     "slide_type": "slide"
    }
   },
   "source": [
    "# 7. Time series models - caveats"
   ]
  },
  {
   "cell_type": "markdown",
   "metadata": {
    "slideshow": {
     "slide_type": "fragment"
    }
   },
   "source": [
    "1. Small timeseries\n",
    "2. In-sample predictions (predicting the data it has been fitted with)\n",
    "3. Time series' are not stationary - due to the recession\n",
    "4. Does give some indication that this could work (with better data and methods)"
   ]
  },
  {
   "cell_type": "markdown",
   "metadata": {
    "slideshow": {
     "slide_type": "slide"
    }
   },
   "source": [
    "# 8. Overall Summary"
   ]
  },
  {
   "cell_type": "markdown",
   "metadata": {
    "slideshow": {
     "slide_type": "fragment"
    }
   },
   "source": [
    "- Evidence that traffic flow can be used as an early indicator for economic measures\n",
    "- Need more data\n",
    "- Better data will allow for better methods\n",
    "- Still, more data will not solve all our problems\n",
    "- We need to test these methods' robustness even with new data"
   ]
  },
  {
   "cell_type": "markdown",
   "metadata": {
    "slideshow": {
     "slide_type": "fragment"
    }
   },
   "source": [
    "### Speaking of better data..."
   ]
  },
  {
   "cell_type": "markdown",
   "metadata": {
    "slideshow": {
     "slide_type": "slide"
    }
   },
   "source": [
    "# 9. Future work - High frequency traffic flow data"
   ]
  },
  {
   "cell_type": "markdown",
   "metadata": {
    "slideshow": {
     "slide_type": "fragment"
    }
   },
   "source": [
    "Highways England provides an open dataset containing traffic flow counts at 15 minute intervals for Motorways and Major A-Roads across England.\n",
    "\n",
    "- The Data Engineering team in DaaS have scraped this and ingested into DAP-E\n",
    "    - Over 2 million seperate files\n",
    "    - Over 200Gb of data\n",
    "\n",
    "- Really exciting high frequency dataset - ideally suited for this work\n",
    "    - Replicate these correlations with daily data\n",
    "    - Look at the approaches used in Slovenia and Finland\n",
    "    - Develop some ideas of our own\n"
   ]
  },
  {
   "cell_type": "markdown",
   "metadata": {
    "slideshow": {
     "slide_type": "slide"
    }
   },
   "source": [
    "# Thank you for listening, Questions?\n",
    "\n",
    "- Contact: edward.rowland@ons.gov.uk\n",
    "- Location: Newport 1.156\n",
    "\n",
    "### Analysis \n",
    "A bit rough plus some visualisations may not work as I update/break things periodically - If you want to look at something that is broken, please email me\n",
    "\n",
    "- GitHub: https://github.com/ONSBigData/traffic_as_early_indicator\n",
    "- MyBinder (run code without python/jupyter: https://mybinder.org/v2/gh/ONSBigData/traffic_as_early_indicator/master "
   ]
  }
 ],
 "metadata": {
  "celltoolbar": "Slideshow",
  "kernelspec": {
   "display_name": "report-GvhoWphm",
   "language": "python",
   "name": "report-gvhowphm"
  },
  "language_info": {
   "codemirror_mode": {
    "name": "ipython",
    "version": 3
   },
   "file_extension": ".py",
   "mimetype": "text/x-python",
   "name": "python",
   "nbconvert_exporter": "python",
   "pygments_lexer": "ipython3",
   "version": "3.5.4"
  }
 },
 "nbformat": 4,
 "nbformat_minor": 2
}
